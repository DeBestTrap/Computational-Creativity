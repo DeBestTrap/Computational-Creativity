{
 "cells": [
  {
   "cell_type": "code",
   "execution_count": null,
   "metadata": {},
   "outputs": [],
   "source": [
    "%pip install --upgrade openai wandb\n",
    "%pip install python-dotenv"
   ]
  },
  {
   "cell_type": "code",
   "execution_count": 2,
   "metadata": {},
   "outputs": [
    {
     "name": "stdout",
     "output_type": "stream",
     "text": [
      "ChatCompletion(id='chatcmpl-8R8esS9KsrQbyQFIRUn3uHke8MiZD', choices=[Choice(finish_reason='stop', index=0, message=ChatCompletionMessage(content='The largest egg ever laid by any animal is that of the extinct elephant bird, also known as Aepyornis maximus, which lived in Madagascar until roughly the 17th century. The egg was up to 13 inches (34 cm) long and up to 9 inches (23 cm) wide. The volume of the egg is estimated to be equal to about 150 chicken eggs.', role='assistant', function_call=None, tool_calls=None))], created=1701478830, model='gpt-4-0613', object='chat.completion', system_fingerprint=None, usage=CompletionUsage(completion_tokens=80, prompt_tokens=25, total_tokens=105))\n"
     ]
    }
   ],
   "source": [
    "from openai import OpenAI\n",
    "from dotenv import load_dotenv\n",
    "\n",
    "load_dotenv()\n",
    "\n",
    "client = OpenAI()\n",
    "\n",
    "response = client.chat.completions.create(\n",
    "  model=\"gpt-4\",\n",
    "  messages=[\n",
    "    {\"role\": \"system\", \"content\": \"You are a helpful assistant.\"},\n",
    "    {\"role\": \"user\", \"content\": \"What is the biggest egg to exist?\"}\n",
    "  ]\n",
    ")\n"
   ]
  },
  {
   "cell_type": "code",
   "execution_count": 4,
   "metadata": {},
   "outputs": [
    {
     "name": "stdout",
     "output_type": "stream",
     "text": [
      "The largest egg ever laid by any animal is that of the extinct elephant bird, also known as Aepyornis maximus, which lived in Madagascar until roughly the 17th century. The egg was up to 13 inches (34 cm) long and up to 9 inches (23 cm) wide. The volume of the egg is estimated to be equal to about 150 chicken eggs.\n"
     ]
    }
   ],
   "source": [
    "response_text = response.choices[0].message.content\n",
    "print(response_text)"
   ]
  }
 ],
 "metadata": {
  "kernelspec": {
   "display_name": "llama",
   "language": "python",
   "name": "python3"
  },
  "language_info": {
   "codemirror_mode": {
    "name": "ipython",
    "version": 3
   },
   "file_extension": ".py",
   "mimetype": "text/x-python",
   "name": "python",
   "nbconvert_exporter": "python",
   "pygments_lexer": "ipython3",
   "version": "3.8.18"
  }
 },
 "nbformat": 4,
 "nbformat_minor": 2
}
