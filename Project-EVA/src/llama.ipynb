{
 "cells": [
  {
   "cell_type": "code",
   "execution_count": null,
   "metadata": {},
   "outputs": [],
   "source": [
    "%pip install torch\n",
    "%pip install fairscale\n",
    "%pip install fire\n",
    "%pip install sentencepiece"
   ]
  },
  {
   "cell_type": "code",
   "execution_count": 7,
   "metadata": {},
   "outputs": [
    {
     "name": "stdout",
     "output_type": "stream",
     "text": [
      "Output: > initializing model parallel with size 1\n",
      "> initializing ddp with size 1\n",
      "> initializing pipeline with size 1\n",
      "Loaded in 35.63 seconds\n",
      "User: what is the recipe of mayonnaise?\n",
      "\n",
      "> Assistant:  Mayonnaise is a thick, creamy condiment made from a mixture of egg yolks, oil, and an acid, such as vinegar or lemon juice. Here is a basic recipe for homemade mayonnaise:\n",
      "Ingredients:\n",
      "* 2 egg yolks\n",
      "* 1/2 cup (120 ml) neutral-tasting oil, such as canola or grapeseed\n",
      "* 1 tablespoon (15 ml) vinegar or lemon juice\n",
      "* Salt and pepper to taste\n",
      "Instructions:\n",
      "1. In a small bowl, whisk together the egg yolks and vinegar or lemon juice until the mixture becomes thick and emulsified. This should take about 5-7 minutes.\n",
      "2. Slowly pour the oil into the egg yolk mixture while continuously whisking. The mixture should start to thicken and emulsify as you add the oil.\n",
      "3. Continue whisking until the mixture becomes thick and creamy, and all of the oil has been incorporated. This can take up to 10-15 minutes.\n",
      "4. Taste and adjust the seasoning as needed. You may want to add more salt, pepper, or vinegar to taste.\n",
      "5. Transfer the mayonnaise to a jar or airtight container and store it in the fridge for up to 1 week.\n",
      "Note: It's important to use a low-speed mixer or whisk when making mayonnaise, as it can easily break or turn into scrambled eggs if mixed too quickly.\n",
      "Here are some tips to help you make the best mayonnaise:\n",
      "* Use a neutral-tasting oil, such as canola or grapeseed, as it will not affect the flavor of the mayonnaise.\n",
      "* Use a high-quality egg yolk, as it will give the mayonnaise a richer and creamier texture.\n",
      "* Make sure the egg yolk is at room temperature before whisking, as this will help the mixture emulsify more easily.\n",
      "* Don't over-whisk the mayonnaise, as it can break and become too thick.\n",
      "* Add the oil slowly\n",
      "\n",
      "==================================\n",
      "\n",
      "User: I am going to Paris, what should I see?\n",
      "\n",
      "Assistant: Paris, the capital of France, is known for its stunning architecture, art museums, historical landmarks, and romantic atmosphere.\n",
      "\n",
      "User: What is so great about #1?\n",
      "\n",
      "> Assistant:  The Eiffel Tower (#1) is one of the most iconic landmarks in Paris and one of the most recognizable structures in the world. It was built for the 1889 World's Fair and stands at over 1,000 feet tall, offering breathtaking views of the city from its observation decks. The Eiffel Tower is a must-see attraction for anyone visiting Paris, and it's a great spot to watch the sunset or take in the city's lights at night.\n",
      "Here are some other reasons why the Eiffel Tower is so great:\n",
      "1. Engineering marvel: The Eiffel Tower is an engineering marvel, with over 18,000 pieces of iron and 2.5 million rivets holding it together.\n",
      "2. Historical significance: The Eiffel Tower was built for the 1889 World's Fair, which was held in Paris to celebrate the 100th anniversary of the French Revolution.\n",
      "3. Cultural icon: The Eiffel Tower has become a cultural icon, symbolizing Paris and France as a whole. It's featured in countless films, books, and works of art.\n",
      "4. Panoramic views: The Eiffel Tower offers stunning panoramic views of Paris, including the River Seine, the Arc de Triomphe, and the Montmartre neighborhood.\n",
      "5. Romantic atmosphere: The Eiffel Tower is a romantic spot, with many couples proposing or exchanging their vows on the observation decks.\n",
      "6. Nighttime views: The Eiffel Tower is particularly beautiful at night, when it's lit up with thousands of twinkling lights.\n",
      "7. Accessibility: The Eiffel Tower is easy to reach by public transportation, and there are several restaurants and cafes nearby.\n",
      "8. Educational: The Eiffel Tower has a museum on its first floor, which offers insights into its history and construction.\n",
      "9. Photo opportunities: The E\n",
      "\n",
      "==================================\n",
      "\n",
      "\n",
      "Error: /home/eggyrepublic/ERU/RPI/Computational-Creativity/.conda/lib/python3.10/site-packages/torch/__init__.py:614: UserWarning: torch.set_default_tensor_type() is deprecated as of PyTorch 2.1, please use torch.set_default_dtype() and torch.set_default_device() as alternatives. (Triggered internally at ../torch/csrc/tensor/python_tensor.cpp:451.)\n",
      "  _C._set_default_tensor_type(t)\n",
      "\n",
      "Return Code: 0\n"
     ]
    }
   ],
   "source": [
    "import subprocess\n",
    "\n",
    "arguments = ['torchrun', \n",
    "             '--nproc_per_node=1', \n",
    "             'llama_start.py', \n",
    "             '--ckpt_dir /home/eggyrepublic/ERU/RPI/llama/llama-2-7b-chat/', \n",
    "             '--tokenizer_path /home/eggyrepublic/ERU/RPI/llama/tokenizer.model', \n",
    "             '--max_seq_len=512', \n",
    "             '--max_batch_size=6']\n",
    "result = subprocess.run(arguments, capture_output=True, text=True)\n",
    "\n",
    "# Print the output, error, and return code\n",
    "print(\"Output:\", result.stdout)\n",
    "print(\"Error:\", result.stderr)\n",
    "print(\"Return Code:\", result.returncode)\n"
   ]
  }
 ],
 "metadata": {
  "kernelspec": {
   "display_name": "llama",
   "language": "python",
   "name": "python3"
  },
  "language_info": {
   "codemirror_mode": {
    "name": "ipython",
    "version": 3
   },
   "file_extension": ".py",
   "mimetype": "text/x-python",
   "name": "python",
   "nbconvert_exporter": "python",
   "pygments_lexer": "ipython3",
   "version": "3.10.13"
  }
 },
 "nbformat": 4,
 "nbformat_minor": 2
}
