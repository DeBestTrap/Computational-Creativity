{
 "cells": [
  {
   "cell_type": "code",
   "execution_count": null,
   "metadata": {},
   "outputs": [],
   "source": [
    "%pip install torch\n",
    "%pip install fairscale\n",
    "%pip install fire\n",
    "%pip install sentencepiece"
   ]
  },
  {
   "cell_type": "code",
   "execution_count": 4,
   "metadata": {},
   "outputs": [],
   "source": [
    "import subprocess\n",
    "import json\n",
    "import os\n",
    "from dotenv import load_dotenv\n",
    "\n",
    "load_dotenv()\n",
    "\n",
    "\n",
    "LLAMA_RUNNER = os.environ['LLAMA_RUNNER']\n",
    "LLAMA_DATA = os.environ['LLAMA_DATA']\n",
    "\n",
    "\n",
    "'''\n",
    "LLAMA PIPELINE\n",
    "'''\n",
    "\n",
    "def llama(input):\n",
    "\n",
    "    with open(LLAMA_DATA, 'w') as file:\n",
    "        json.dump(input, file, indent=4)\n",
    "\n",
    "    arguments = ['torchrun', \n",
    "                '--nproc_per_node=1', \n",
    "                f'{LLAMA_RUNNER}', \n",
    "                '--max_seq_len=512', \n",
    "                '--max_batch_size=6']\n",
    "    result = subprocess.run(arguments, capture_output=True, text=True)\n",
    "\n",
    "    print(\"Error:\", result.stderr)\n",
    "    print(\"Return Code:\", result.returncode)\n",
    "\n",
    "    return result.stdout\n",
    "\n",
    "\n",
    "def parse_llama_result(data:str, find_json=False):\n",
    "    data = data[data.find('[@DATABEGIN]'):data.find('[@DATAEND]')]\n",
    "    story = data[data.find('[@RESPONSEBEGIN]'):data.find('[@RESPONSEEND]')]\n",
    "    if find_json:\n",
    "        story = story[story.find(\"{\"):story.rfind(\"}\") + 1]\n",
    "    return story\n"
   ]
  },
  {
   "cell_type": "code",
   "execution_count": 5,
   "metadata": {},
   "outputs": [
    {
     "name": "stdout",
     "output_type": "stream",
     "text": [
      "Error: /home/eggyrepublic/ERU/RPI/Computational-Creativity/.conda/lib/python3.10/site-packages/torch/__init__.py:614: UserWarning: torch.set_default_tensor_type() is deprecated as of PyTorch 2.1, please use torch.set_default_dtype() and torch.set_default_device() as alternatives. (Triggered internally at ../torch/csrc/tensor/python_tensor.cpp:451.)\n",
      "  _C._set_default_tensor_type(t)\n",
      "\n",
      "Return Code: 0\n"
     ]
    },
    {
     "data": {
      "text/plain": [
       "'\\nstory_parsed = parse_llama_result(story, True)\\n\\ndata = [\\n    [\\n        {\"role\": \"user\", \"content\": f\"generate the captions for a series of images that would pair well with the following story such that there is one caption per paragraph, Begin each caption with the label [SCENE]: \\n{story_parsed}.\"}\\n    ],\\n]\\n\\ncaptions = llama(data)\\n'"
      ]
     },
     "execution_count": 5,
     "metadata": {},
     "output_type": "execute_result"
    }
   ],
   "source": [
    "prompt = 'animals overrunning a village and destroying its crops'\n",
    "\n",
    "example = \"\"\"{\n",
    "    \"characters\": [\n",
    "        {\"name\": \"Radke\"}\n",
    "    ],\n",
    "    \"script\": [ \n",
    "        {\"caption\": \"A sheep looking at the wheels of cheese in a supermarket.\", \n",
    "         \"dialogue\": [\n",
    "            {\"character\": \"Radke\", \"text\": \"In the mist-enshrouded hills of an ancient land, there lies a mystery as old as time itself. Behold the enigmatic sheep, creatures shrouded in the lore and legend of yesteryears.\"}\n",
    "        ]\n",
    "        },\n",
    "        {\"caption\": \"A sheep wearing a wizard hat casting magic spells with a ritual circle beneath them in Stonehenge\", \n",
    "         \"dialogue\": [\n",
    "            {\"character\": \"Radke\", \"text\": \"For centuries, scholars and mystics have pondered over their serene demeanors and unassuming presence.\"},\n",
    "            {\"character\": \"Radke\", \"text\": \"What arcane knowledge do they guard beneath their fluffy exteriors?\"}\n",
    "        ]\n",
    "        },\n",
    "        {\"caption\": \"A man looking at sheep eating grass around a field.\", \n",
    "         \"dialogue\": [\n",
    "            {\"character\": \"Radke\", \"text\": \"Join us, as we unravel the ancient mystery of the sheep.\"}\n",
    "        ]\n",
    "        }\n",
    "    ]\n",
    "}\"\"\"\n",
    "\n",
    "data = [\n",
    "    [\n",
    "        {\"role\": \"user\", \"content\": f\"write a story about {prompt}, and present it in the following format: {example}\"}\n",
    "    ],\n",
    "]\n",
    "\n",
    "story = llama(data)\n",
    "\n",
    "'''\n",
    "story_parsed = parse_llama_result(story, True)\n",
    "\n",
    "data = [\n",
    "    [\n",
    "        {\"role\": \"user\", \"content\": f\"generate the captions for a series of images that would pair well with the following story such that there is one caption per paragraph, Begin each caption with the label [SCENE]: \\n{story_parsed}.\"}\n",
    "    ],\n",
    "]\n",
    "\n",
    "captions = llama(data)\n",
    "'''"
   ]
  },
  {
   "cell_type": "code",
   "execution_count": 7,
   "metadata": {},
   "outputs": [
    {
     "name": "stdout",
     "output_type": "stream",
     "text": [
      "story parsed: \n",
      "{\n",
      "\"characters\": [\n",
      "    {\"name\": \"Radke\"}\n",
      "],\n",
      "\"script\": [\n",
      "\n",
      "    {\"caption\": \"A sheep looking at the wheels of cheese in a supermarket.\", \n",
      "     \"dialogue\": [\n",
      "\n",
      "        {\"character\": \"Radke\", \"text\": \"In the mist-enshrouded hills of an ancient land, there lies a mystery as old as time itself. Behold the enigmatic sheep, creatures shrouded in the lore and legend of yesteryears.\"}\n",
      "\n",
      "    ]\n",
      "\n",
      "    },\n",
      "\n",
      "    {\"caption\": \"A sheep wearing a wizard hat casting magic spells with a ritual circle beneath them in Stonehenge\", \n",
      "     \"dialogue\": [\n",
      "\n",
      "        {\"character\": \"Radke\", \"text\": \"For centuries, scholars and mystics have pondered over their serene demeanors and unassuming presence.\"},\n",
      "\n",
      "        {\"character\": \"Radke\", \"text\": \"What arcane knowledge do they guard beneath their fluffy exteriors?\"}\n",
      "\n",
      "    ]\n",
      "\n",
      "    },\n",
      "\n",
      "    {\"caption\": \"A man looking at sheep eating grass around a field.\", \n",
      "     \"dialogue\": [\n",
      "\n",
      "        {\"character\": \"Radke\", \"text\": \"Join us, as we unravel the ancient mystery of the sheep.\"}\n",
      "\n",
      "    ]\n",
      "\n",
      "]\n",
      "\n",
      "\n",
      "END\n"
     ]
    }
   ],
   "source": [
    "story_parsed = parse_llama_result(story, True)\n",
    "print(f\"story parsed: \\n{story_parsed}\\nEND\")"
   ]
  }
 ],
 "metadata": {
  "kernelspec": {
   "display_name": "llama",
   "language": "python",
   "name": "python3"
  },
  "language_info": {
   "codemirror_mode": {
    "name": "ipython",
    "version": 3
   },
   "file_extension": ".py",
   "mimetype": "text/x-python",
   "name": "python",
   "nbconvert_exporter": "python",
   "pygments_lexer": "ipython3",
   "version": "3.10.13"
  }
 },
 "nbformat": 4,
 "nbformat_minor": 2
}
